{
 "cells": [
  {
   "cell_type": "markdown",
   "id": "55baeaa0-1972-4a2b-8f4a-8029e144eb74",
   "metadata": {},
   "source": [
    "Data Science Tools and Ecosystem"
   ]
  },
  {
   "cell_type": "markdown",
   "id": "3b2b3370-d3cb-41cb-9c8f-d42fe98999ba",
   "metadata": {},
   "source": [
    "In this notebook, Data Science Tools and Ecosystem are summarized\n",
    "\n",
    "\n",
    "\n",
    "\n"
   ]
  },
  {
   "cell_type": "markdown",
   "id": "1c3e0750-843c-4f18-856f-65a70b2ca201",
   "metadata": {},
   "source": [
    "Some of the popular languages that Data Scientists use are\n",
    "\n",
    "1. Python\n",
    "2. R\n",
    "3. sql "
   ]
  },
  {
   "cell_type": "markdown",
   "id": "33f63e6a-0d7d-4ddf-9a3e-d3d444b40b98",
   "metadata": {},
   "source": [
    "Some of the commonly used libraries used by Data Scientists include\n",
    "\n",
    "1. matplotlib\n",
    "2. tensorflow\n",
    "3. scikit learn\n"
   ]
  },
  {
   "cell_type": "markdown",
   "id": "065d71a5-f657-4f41-a38d-7dc7fe12577e",
   "metadata": {},
   "source": [
    "| Data science tools |\n",
    "----------------------\n",
    "|Jupyter|\n",
    "| python|\n",
    "| R|\n"
   ]
  },
  {
   "cell_type": "markdown",
   "id": "b99f9be9-c2ac-48f3-bd14-9b48c9932a15",
   "metadata": {
    "tags": []
   },
   "source": [
    "<h3> Below are a few examples of evaluating arithmetic expressions in Python </h3>"
   ]
  },
  {
   "cell_type": "code",
   "execution_count": 2,
   "id": "f53be703-f9ea-48da-af09-2b5b0b60ca89",
   "metadata": {
    "tags": []
   },
   "outputs": [
    {
     "data": {
      "text/plain": [
       "17"
      ]
     },
     "execution_count": 2,
     "metadata": {},
     "output_type": "execute_result"
    }
   ],
   "source": [
    "(3*4)+5"
   ]
  },
  {
   "cell_type": "code",
   "execution_count": 7,
   "id": "dc1c65f8-88a9-4a02-9699-bb1cc0ff4d1e",
   "metadata": {
    "tags": []
   },
   "outputs": [
    {
     "name": "stdout",
     "output_type": "stream",
     "text": [
      "3.3333333333333335\n"
     ]
    }
   ],
   "source": [
    "##This will convert 200 minutes to hours by diving by 60.\n",
    "minutes = 200\n",
    "hours = (200/60)\n",
    "print(hours)"
   ]
  },
  {
   "cell_type": "markdown",
   "id": "f9ea3f59-7c7a-4d32-84d9-11a9ccbc850f",
   "metadata": {},
   "source": [
    "<b> Objectives: </b>\n",
    "\n",
    "* python\n",
    "* R\n",
    "* Sql"
   ]
  },
  {
   "cell_type": "markdown",
   "id": "22da8109-94e1-49c2-b0b7-3e0ca73e6d72",
   "metadata": {
    "tags": []
   },
   "source": [
    "<h2> P Abhishek </h2>"
   ]
  },
  {
   "cell_type": "code",
   "execution_count": null,
   "id": "6f536052-008d-4e57-b7ec-1e8773d302fd",
   "metadata": {},
   "outputs": [],
   "source": []
  }
 ],
 "metadata": {
  "kernelspec": {
   "display_name": "Python",
   "language": "python",
   "name": "conda-env-python-py"
  },
  "language_info": {
   "codemirror_mode": {
    "name": "ipython",
    "version": 3
   },
   "file_extension": ".py",
   "mimetype": "text/x-python",
   "name": "python",
   "nbconvert_exporter": "python",
   "pygments_lexer": "ipython3",
   "version": "3.7.12"
  }
 },
 "nbformat": 4,
 "nbformat_minor": 5
}
